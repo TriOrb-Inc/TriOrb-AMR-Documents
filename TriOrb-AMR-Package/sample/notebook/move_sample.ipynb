{
 "cells": [
  {
   "cell_type": "markdown",
   "id": "0fe7ca78-244b-4119-87d6-9cd67b07adfd",
   "metadata": {},
   "source": [
    "## 必要なライブラリのimport(Notebookを開いたり, Kernel再起動の度に一度だけ実行)"
   ]
  },
  {
   "cell_type": "code",
   "execution_count": 1,
   "id": "78224e39-380c-4653-b2d2-e43465fdc015",
   "metadata": {},
   "outputs": [],
   "source": [
    "import os\n",
    "import time\n",
    "import numpy as np\n",
    "import rclpy\n",
    "from rclpy.node import Node\n",
    "from triorb_drive_interface.msg import TriorbRunPos3 as TriorbRunPos3\n",
    "from triorb_drive_interface.msg import TriorbRunVel3 as TriorbRunVel3"
   ]
  },
  {
   "cell_type": "markdown",
   "id": "6bd65e78-9447-41e1-a0e1-3993889be241",
   "metadata": {},
   "source": [
    "## 事前定義(Notebookを開いたり, Kernel再起動の度に一度だけ実行)"
   ]
  },
  {
   "cell_type": "code",
   "execution_count": 2,
   "id": "bab0d6ab-9e58-4315-9808-16f5699131e0",
   "metadata": {},
   "outputs": [],
   "source": [
    "def get_topic_name(topic_name_raw):\n",
    "    return (os.getenv('ROS_PREFIX', '')+'/'+topic_name_raw).replace(\"//\",\"/\")\n",
    "\n",
    "# 相対位置制御用のトピックを配信するノード\n",
    "class RelativePosNode(Node):\n",
    "    def __init__(self):\n",
    "        super().__init__('sample_rel_pos')\n",
    "        self.pub_rel_pos = self.create_publisher(TriorbRunPos3, get_topic_name(\"/drive/run_pos\"), 1)\n",
    "\n",
    "    def __call__(self, x=0.0, y=0.0, deg=0.0, vxy=0.1, vw=0.5, acc=500, dec=500):\n",
    "        msg = TriorbRunPos3()\n",
    "        msg.position.x = x\n",
    "        msg.position.y = y\n",
    "        msg.position.deg = deg\n",
    "        msg.speed.xy = vxy\n",
    "        msg.speed.w = vw\n",
    "        msg.speed.acc = acc\n",
    "        msg.speed.dec = dec\n",
    "        self.pub_rel_pos.publish( msg )\n",
    "        raise KeyboardInterrupt\n",
    "\n",
    "# 速度制御用のトピックを配信するノード\n",
    "class RelativeVelNode(Node):\n",
    "    def __init__(self):\n",
    "        super().__init__('sample_rel_vel')\n",
    "        self.pub_rel_vel = self.create_publisher(TriorbRunVel3, get_topic_name(\"/drive/run_vel\"), 1)\n",
    "\n",
    "    def __call__(self, vx=0.0, vy=0.0, vw=0.0, acc=500, dec=500):\n",
    "        msg = TriorbRunVel3()\n",
    "        msg.velocity.vx = vx\n",
    "        msg.velocity.vy = vy\n",
    "        msg.velocity.vw = vw\n",
    "        msg.speed.xy = 0.0\n",
    "        msg.speed.w = 0.0\n",
    "        msg.speed.acc = acc\n",
    "        msg.speed.dec = dec\n",
    "        self.pub_rel_vel.publish( msg )\n",
    "        raise KeyboardInterrupt\n",
    "\n",
    "\n",
    "rclpy.init()\n",
    "pos_node = RelativePosNode()\n",
    "vel_node = RelativeVelNode()\n",
    "\n",
    "def set_pos_relative(x, y, deg, vxy, vw, acc, dec):\n",
    "    try:\n",
    "        pos_node(x, y, deg, vxy, vw, acc, dec)\n",
    "        rclpy.spin(pos_node)\n",
    "    except KeyboardInterrupt:\n",
    "        print(\"done.\")\n",
    "\n",
    "def set_vel_relative(vx, vy, vw, acc, dec):\n",
    "    try:\n",
    "        vel_node(vx, vy, vw, acc, dec)\n",
    "        rclpy.spin(vel_node)\n",
    "    except KeyboardInterrupt:\n",
    "        print(\"done.\")"
   ]
  },
  {
   "cell_type": "markdown",
   "id": "7b8af8fe-a7bd-4480-9204-d0dac9e0d321",
   "metadata": {},
   "source": [
    "## 相対位置指令\n",
    "ロボットから見てx,y,w方向に移動します. 単位はx[m], y[m], deg[°], vxy[m/s], vw[rad/s], acc[ms], dec[ms] です. <br>\n",
    "ロボットが移動完了前に次の指示を送ると移動途中に指示が上書きされます."
   ]
  },
  {
   "cell_type": "code",
   "execution_count": null,
   "id": "2d557e59-1ea2-4b79-80b1-6b271f8a8438",
   "metadata": {},
   "outputs": [],
   "source": [
    "# y方向（正面）に 0.5[m] 移動. 移動速度は0.1[m/s]で500[ms]で加減速が完了する\n",
    "x=0.0\n",
    "y=0.2\n",
    "deg=0.0\n",
    "vxy=0.1\n",
    "vw=0.1\n",
    "acc=500\n",
    "dec=500\n",
    "\n",
    "set_pos_relative(x, y, deg, vxy, vw, acc, dec)"
   ]
  },
  {
   "cell_type": "markdown",
   "id": "41e2a950-aca5-4ec0-8635-83a2cb569bba",
   "metadata": {},
   "source": [
    "## 速度指令\n",
    "ロボットから見てvx,vy,vw方向に移動します. 単位は, vx[m/s], vy[m/s], vw[rad/s], acc[ms], dec[ms] です. <br>\n",
    "<span style=\"color:#FF0000\">減速命令を送るまで動き続けることに注意してください.</span>"
   ]
  },
  {
   "cell_type": "code",
   "execution_count": null,
   "id": "adea5e81-108f-431f-9f9e-5e4df9794892",
   "metadata": {},
   "outputs": [],
   "source": [
    "# x方向（右）に 0.2[m/s] で移動. 500[ms]で加減速が完了する.\n",
    "vx=0.2\n",
    "vy=0.0\n",
    "vw=0.0\n",
    "acc=500\n",
    "dec=500\n",
    "\n",
    "# 移動指示\n",
    "set_vel_relative(vx, vy, vw, acc, dec)\n",
    "# 1秒後待つ\n",
    "time.sleep(1)\n",
    "# 減速停止（各速度を0にする命令を送信）\n",
    "set_vel_relative(0.0, 0.0, 0.0, acc, dec)"
   ]
  },
  {
   "cell_type": "code",
   "execution_count": null,
   "id": "6e1f5004-a3e1-4baa-83bc-6312597f5552",
   "metadata": {},
   "outputs": [],
   "source": []
  }
 ],
 "metadata": {
  "kernelspec": {
   "display_name": "Python 3 (ipykernel)",
   "language": "python",
   "name": "python3"
  },
  "language_info": {
   "codemirror_mode": {
    "name": "ipython",
    "version": 3
   },
   "file_extension": ".py",
   "mimetype": "text/x-python",
   "name": "python",
   "nbconvert_exporter": "python",
   "pygments_lexer": "ipython3",
   "version": "3.8.10"
  }
 },
 "nbformat": 4,
 "nbformat_minor": 5
}
