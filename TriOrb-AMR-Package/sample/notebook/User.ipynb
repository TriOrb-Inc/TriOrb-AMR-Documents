{
 "cells": [
  {
   "cell_type": "markdown",
   "id": "f6fe5e40-7426-4c43-a500-95f6609d0f78",
   "metadata": {},
   "source": [
    "## このNotebookファイルを複製（本ファイルは書込み禁止）"
   ]
  },
  {
   "cell_type": "code",
   "execution_count": 11,
   "id": "1d61fb75-ad47-4572-a540-08d245802624",
   "metadata": {},
   "outputs": [
    {
     "name": "stdout",
     "output_type": "stream",
     "text": [
      "> User.ipynb\n"
     ]
    }
   ],
   "source": [
    "import shutil, os\n",
    "dst = shutil.copy('Sample.ipynb', 'User.ipynb')\n",
    "os.chmod(dst, 0o755)\n",
    "print(\"> \" + dst)"
   ]
  },
  {
   "cell_type": "markdown",
   "id": "80825c73-b76e-4b87-8ef4-e9477369b6a4",
   "metadata": {},
   "source": [
    "## 追加ライブラリのインストール（無ければ）"
   ]
  },
  {
   "cell_type": "code",
   "execution_count": null,
   "id": "0a04538c-f692-4f7a-9e01-0c296c8e4a1f",
   "metadata": {
    "editable": true,
    "slideshow": {
     "slide_type": ""
    },
    "tags": []
   },
   "outputs": [],
   "source": [
    "!pip list | grep pandas > /dev/null; if [ $? -ne 0 ]; then pip install pandas; fi\n",
    "!pip install -U pandas numpy\n",
    "#!apt list --installed | grep \"tf-transformations\" > /dev/null; if [ $? -ne 0 ]; then apt update && apt install ros-foxy-tf-transformations && source /opt/ros/foxy/local_setup.sh ; fi\n",
    "#!source /opt/ros/foxy/local_setup.sh"
   ]
  },
  {
   "cell_type": "markdown",
   "id": "0fe7ca78-244b-4119-87d6-9cd67b07adfd",
   "metadata": {},
   "source": [
    "## 経由地点リストの初期化"
   ]
  },
  {
   "cell_type": "code",
   "execution_count": null,
   "id": "2d557e59-1ea2-4b79-80b1-6b271f8a8438",
   "metadata": {},
   "outputs": [],
   "source": [
    "import pandas as pd\n",
    "import numpy as np\n",
    "import rclpy\n",
    "rclpy.init()\n",
    "waypoint_list = pd.DataFrame(index=[], columns=[\"x\",\"y\",\"deg\",\"v_xy\",\"v_w\",\"tx\",\"ty\",\"tr\"])\n",
    "waypoint_list = pd.DataFrame([[0, 0, 0, 0.5, 3.14, np.inf, np.inf, np.inf]], columns=[\"x\",\"y\",\"deg\",\"v_xy\",\"v_w\",\"tx\",\"ty\",\"tr\"]) # Debug"
   ]
  },
  {
   "cell_type": "markdown",
   "id": "41e2a950-aca5-4ec0-8635-83a2cb569bba",
   "metadata": {},
   "source": [
    "## \"リモコンでロボットを経由地点まで動かし下のCellを実行\"を経由地点の数に応じて繰り返す"
   ]
  },
  {
   "cell_type": "code",
   "execution_count": null,
   "id": "adea5e81-108f-431f-9f9e-5e4df9794892",
   "metadata": {},
   "outputs": [],
   "source": [
    "from rclpy.node import Node\n",
    "from scipy.spatial.transform import Rotation as R\n",
    "from geometry_msgs.msg import TransformStamped\n",
    "import tf_transformations\n",
    "\n",
    "def quaternion_to_euler_zyx(q):\n",
    "    r = R.from_quat([q[0], q[1], q[2], q[3]])\n",
    "    return r.as_euler('zyx', degrees=True)\n",
    "    \n",
    "class SampleNodeClient(Node):\n",
    "    def __init__(self):\n",
    "        super().__init__('sample_node_notebook')\n",
    "        self.timer = self.create_timer(5.0, self.callback_timer)\n",
    "        self.subs = [self.create_subscription(TransformStamped, '/vslam/rig_tf', self.callback_rig_tf, 10)]\n",
    "\n",
    "    def destroy(self):\n",
    "        _ = [self.destroy_subscription(_sub) for _sub in self.subs]\n",
    "        self.destroy_node()\n",
    "    \n",
    "    def callback_timer(self):\n",
    "        print(\"waiting for the massage\")\n",
    "\n",
    "    def callback_rig_tf(self, msg):\n",
    "        print(str(msg))\n",
    "        _x, _y = msg.transform.translation.x, msg.transform.translation.x\n",
    "        _roll, _pitch, _yaw = tf_transformations.euler_from_quaternion(\n",
    "            [msg.transform.rotation.x, msg.transform.rotation.y, msg.transform.rotation.z, msg.transform.rotation.w])\n",
    "        _df = pd.DataFrame([[_x, _y, np.rad2deg(_yaw), 0.5, 3.14, 0.1, 0.1, 1.0]], columns=[\"x\",\"y\",\"deg\",\"v_xy\",\"v_w\",\"tx\",\"ty\",\"tr\"])\n",
    "        waypoint_list = pd.concat([waypoint_list, _df]).reset_index(drop=True)\n",
    "        self.destroy()\n",
    "        \n",
    "node = SampleNodeClient()\n",
    "try:\n",
    "    rclpy.spin(node)\n",
    "except KeyboardInterrupt:\n",
    "    print(\"KeyboardInterrupt\")\n",
    "node.destroy()\n",
    "if waypoint_list.shape[0]:\n",
    "    print(waypoint_list)"
   ]
  },
  {
   "cell_type": "markdown",
   "id": "fb43a443-7436-408c-a604-c15a0fc13d0d",
   "metadata": {},
   "source": [
    "## 速度や目標精度を手で修正"
   ]
  },
  {
   "cell_type": "code",
   "execution_count": null,
   "id": "74443a4f-fe48-41a0-9140-a3631a781c92",
   "metadata": {},
   "outputs": [],
   "source": [
    "# 経由地点index 0までの水平移動速度を0.3m/sに設定する\n",
    "waypoint_list.loc[0, 'v_xy'] = 0.3\n",
    "# 経由地点index 0までの旋回速度を1.57rad/sに設定する\n",
    "waypoint_list.loc[0, 'v_w'] = 1.57\n",
    "# 経由地点index 0の目標位置精度を±0.05mに設定する\n",
    "waypoint_list.loc[0, ['tx','ty']] = 0.05\n",
    "# 経由地点index 0の目標角度精度を±5degに設定する\n",
    "waypoint_list.loc[0, 'tr'] = 5.0\n",
    "# 経由地点一覧を表示\n",
    "print(waypoint_list)"
   ]
  },
  {
   "cell_type": "markdown",
   "id": "5083b16e-1d59-4ef9-be73-6ae35822d85c",
   "metadata": {},
   "source": [
    "## 自律移動を実行する"
   ]
  },
  {
   "cell_type": "code",
   "execution_count": null,
   "id": "c2b6c305-3d21-485f-adc8-5b7766714826",
   "metadata": {},
   "outputs": [],
   "source": [
    "import copy\n",
    "from std_msgs.msg import Empty\n",
    "try:\n",
    "    from triorb_drive_interface.msg import TriorbSetPos3 as TriorbSetPos3Topic\n",
    "    from triorb_drive_interface.msg import TriorbRunResult\n",
    "    from triorb_drive_interface.msg import DriveGains\n",
    "except: # OLD\n",
    "    from triorb_msgs.msg import TriorbSetPos3 as TriorbSetPos3Topic\n",
    "    from triorb_msgs.msg import TriorbRunResult\n",
    "    from triorb_msgs.msg import TriorbPID as DriveGains\n",
    "\n",
    "STD_ACC = 1000\n",
    "STD_DEC = 1000\n",
    "GAIN_XY_P = 0.20\n",
    "GAIN_XY_I = 0.0\n",
    "GAIN_XY_D = 1e-5\n",
    "GAIN_W_P = 0.20\n",
    "GAIN_W_I = 0.0\n",
    "GAIN_W_D = 1e-6\n",
    "\n",
    "class SampleNavigateClient(Node):\n",
    "    def __init__(self, waypoints):\n",
    "        super().__init__('sample_navigate_notebook')\n",
    "        self.pub_gain = self.create_publisher(DriveGains, \"setting/drive/gains\", 10)\n",
    "        self.pub_set_pos = self.create_publisher(TriorbSetPos3Topic, \"drive/set_pos\", 10)\n",
    "        self.pub_stop = self.create_publisher(Empty, \"drive/stop\", 10)\n",
    "        self.subs = [self.create_subscription(TriorbRunResult, 'drive/result', self.callback_result, 10)]\n",
    "        self.waypoints = copy.deepcopy(waypoints)\n",
    "        self.set_gain()\n",
    "        self.run_next()\n",
    "\n",
    "    def set_gain(self):\n",
    "        msg = DriveGains()\n",
    "        msg.xy_p = GAIN_XY_P\n",
    "        msg.xy_i = GAIN_XY_I\n",
    "        msg.xy_d = GAIN_XY_D\n",
    "        msg.w_p = GAIN_W_P\n",
    "        msg.w_i = GAIN_W_I\n",
    "        msg.w_d = GAIN_W_D\n",
    "        print(str(msg))\n",
    "        self.pub_gain.publish(msg)\n",
    "\n",
    "    def run_next(self):\n",
    "        for idx, point in self.waypoints.iterrows():\n",
    "            request = TriorbSetPos3Topic()\n",
    "            request.setting = copy.deepcopy(self.setting)\n",
    "            request.pos.position.x = point.x\n",
    "            request.pos.position.y = point.y\n",
    "            request.pos.position.deg = point.deg\n",
    "            request.pos.speed.xy = point.v_xy\n",
    "            request.pos.speed.w = point.v_w\n",
    "            request.pos.speed.acc = STD_ACC\n",
    "            request.pos.speed.dec = STD_DEC\n",
    "            request.setting.tx = point.tx\n",
    "            request.setting.ty = point.ty\n",
    "            request.setting.tr = point.tr\n",
    "            request.setting.force = 1\n",
    "            print(str(request))\n",
    "            self.pub_set_pos.publish(request)\n",
    "            self.waypoints = self.waypoints.drop(idx, axis=0)\n",
    "            return\n",
    "        self.destroy()\n",
    "\n",
    "    def callback_result(self, msg):\n",
    "        print(\"Receive results\")\n",
    "        print(str(msg))\n",
    "    \n",
    "    def destroy(self):\n",
    "        self.pub_stop.publish(Empty())\n",
    "        _ = [self.destroy_subscription(_sub) for _sub in self.subs]\n",
    "        self.destroy_node()\n",
    "        self.run_next()\n",
    "\n",
    "node = SampleNavigateClient()\n",
    "try:\n",
    "    rclpy.spin(node)\n",
    "except KeyboardInterrupt:\n",
    "    print(\"KeyboardInterrupt\")\n",
    "node.destroy()"
   ]
  }
 ],
 "metadata": {
  "kernelspec": {
   "display_name": "Python 3 (ipykernel)",
   "language": "python",
   "name": "python3"
  },
  "language_info": {
   "codemirror_mode": {
    "name": "ipython",
    "version": 3
   },
   "file_extension": ".py",
   "mimetype": "text/x-python",
   "name": "python",
   "nbconvert_exporter": "python",
   "pygments_lexer": "ipython3",
   "version": "3.8.10"
  }
 },
 "nbformat": 4,
 "nbformat_minor": 5
}
