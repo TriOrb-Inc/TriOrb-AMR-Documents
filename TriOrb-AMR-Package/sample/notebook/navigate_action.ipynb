{
 "cells": [
  {
   "cell_type": "markdown",
   "id": "c47bd4a5-7751-4d9c-839f-f0792c245dbc",
   "metadata": {},
   "source": [
    "### TriorbSetPathのactionクライアント\n",
    "参考：https://docs.ros.org/en/foxy/Tutorials/Intermediate/Writing-an-Action-Server-Client/Py.html"
   ]
  },
  {
   "cell_type": "code",
   "execution_count": 1,
   "id": "f0a49cec-5893-4ce0-8cc7-f7bd51e0c69a",
   "metadata": {},
   "outputs": [],
   "source": [
    "import shutil, os\n",
    "import pandas as pd\n",
    "import numpy as np\n",
    "import rclpy\n",
    "from rclpy.node import Node\n",
    "from geometry_msgs.msg import TransformStamped\n",
    "import copy\n",
    "from std_msgs.msg import Empty\n",
    "from triorb_drive_interface.msg import TriorbSetPos3 as TriorbSetPos3Topic\n",
    "from triorb_drive_interface.msg import TriorbRunResult\n",
    "from triorb_drive_interface.msg import DriveGains\n",
    "from scipy.spatial.transform import Rotation as R"
   ]
  },
  {
   "cell_type": "code",
   "execution_count": 2,
   "id": "5a2708b3-0a5b-48d5-8395-b4e548fb7c55",
   "metadata": {},
   "outputs": [],
   "source": [
    "def quaternion_to_euler_zyx(q):\n",
    "    r = R.from_quat([q[0], q[1], q[2], q[3]])\n",
    "    return r.as_euler('zyx', degrees=False)\n",
    "\n",
    "def get_topic_name(topic_name_raw):\n",
    "    return (os.getenv('ROS_PREFIX', '')+'/'+topic_name_raw).replace(\"//\",\"/\")"
   ]
  },
  {
   "cell_type": "code",
   "execution_count": 3,
   "id": "0ee43ff4-5d4f-49ae-ad24-cf4d4df0924f",
   "metadata": {},
   "outputs": [],
   "source": [
    "waypoint_list = pd.DataFrame(index=[], columns=[\"x\",\"y\",\"deg\",\"v_xy\",\"v_w\",\"tx\",\"ty\",\"tr\"])"
   ]
  },
  {
   "cell_type": "markdown",
   "id": "0b1e8732-c5cd-44a5-a1a8-77cca2c4e173",
   "metadata": {},
   "source": [
    "### クライアントノード実体"
   ]
  },
  {
   "cell_type": "code",
   "execution_count": 16,
   "id": "66f89fe8-8c3e-4b8d-afa5-468e247c416c",
   "metadata": {},
   "outputs": [],
   "source": [
    "from rclpy.action import ActionClient\n",
    "from triorb_drive_interface.action import TriorbSetPath\n",
    "from triorb_drive_interface.msg import TriorbSetPos3\n",
    "\n",
    "class SetPathActionClient(Node):\n",
    "\n",
    "    def __init__(self):\n",
    "        super().__init__('act_test')\n",
    "        self._action_client = ActionClient(self, TriorbSetPath, '/action/drive/set_path')\n",
    "\n",
    "    def send_goal(self, path_list):\n",
    "        goal_msg = TriorbSetPath.Goal()\n",
    "        goal_msg.path = path_list\n",
    "        self.current_way = 0\n",
    "\n",
    "        for _ in goal_msg.path:\n",
    "            print(_)\n",
    "\n",
    "        self._action_client.wait_for_server()\n",
    "        self._send_goal_future = self._action_client.send_goal_async(goal_msg, feedback_callback=self.feedback_callback)\n",
    "        self._send_goal_future.add_done_callback(self.goal_response_callback)\n",
    "\n",
    "\n",
    "    def goal_response_callback(self, future):\n",
    "        goal_handle = future.result()\n",
    "        if not goal_handle.accepted:\n",
    "            print('Goal rejected :(')\n",
    "            rclpy.shutdown()\n",
    "            return\n",
    "\n",
    "        print('Goal accepted :)')\n",
    "\n",
    "        self._get_result_future = goal_handle.get_result_async()\n",
    "        self._get_result_future.add_done_callback(self.get_result_callback)\n",
    "\n",
    "    def get_result_callback(self, future):\n",
    "        result = future.result().result\n",
    "        print('Result: {0}'.format(result.result))\n",
    "        rclpy.shutdown()\n",
    "\n",
    "    def feedback_callback(self, feedback_msg):\n",
    "        feedback = feedback_msg.feedback\n",
    "        if self.current_way == feedback.way_idx:\n",
    "            print('route{}: pos({:.4f},{:.4f},{:.4f})'.format(feedback.way_idx, feedback.now.x, feedback.now.y, feedback.now.deg), end=\"          \\r\")\n",
    "        else:\n",
    "            print(\"\")\n",
    "        self.current_way = feedback.way_idx\n"
   ]
  },
  {
   "cell_type": "markdown",
   "id": "203869dd-2add-4501-9737-ad7ca4f42af7",
   "metadata": {},
   "source": [
    "### waypointをactionに変換し実行する関数定義"
   ]
  },
  {
   "cell_type": "code",
   "execution_count": 5,
   "id": "b2d523ba-799c-4286-80fa-2333404c1514",
   "metadata": {},
   "outputs": [],
   "source": [
    "STD_ACC = 1000\n",
    "STD_DEC = 1000\n",
    "def run_action( waypoints ):\n",
    "    try:\n",
    "        rclpy.init()\n",
    "    except:\n",
    "        pass\n",
    "    action_client = SetPathActionClient()\n",
    "\n",
    "    path_list = []\n",
    "    for idx, point in waypoints.iterrows():\n",
    "        request = TriorbSetPos3Topic()\n",
    "        request.pos.position.x = point.x\n",
    "        request.pos.position.y = point.y\n",
    "        request.pos.position.deg = point.deg\n",
    "        request.pos.speed.xy = point.v_xy\n",
    "        request.pos.speed.w = point.v_w\n",
    "        request.pos.speed.acc = STD_ACC\n",
    "        request.pos.speed.dec = STD_DEC\n",
    "        request.setting.tx = point.tx\n",
    "        request.setting.ty = point.ty\n",
    "        request.setting.tr = point.tr\n",
    "        request.setting.force = 1\n",
    "\n",
    "        path_list.append(request)\n",
    "\n",
    "    future = action_client.send_goal(path_list)\n",
    "    rclpy.spin(action_client)\n",
    "\n"
   ]
  },
  {
   "cell_type": "markdown",
   "id": "a3338527-1b19-416d-abae-4840d30b7699",
   "metadata": {},
   "source": [
    "## Waypointを登録"
   ]
  },
  {
   "cell_type": "code",
   "execution_count": 13,
   "id": "91d8f56b-26ea-48bf-a00d-9951cb035ab2",
   "metadata": {},
   "outputs": [
    {
     "name": "stdout",
     "output_type": "stream",
     "text": [
      "KeyboardInterrupt\n",
      "   Unnamed: 0         x         y       deg  v_xy   v_w     tx     ty   tr  \\\n",
      "0         0.0  0.116607 -0.103098  0.141730   0.1  1.57  0.005  0.005  0.5   \n",
      "1         NaN  0.102300 -0.461652  1.770067   0.1  1.57  0.005  0.005  0.5   \n",
      "2         NaN  0.174298 -0.037320  0.913492   0.1  1.57  0.005  0.005  0.5   \n",
      "3         NaN  0.181490 -0.040865  0.252377   0.1  1.57  0.005  0.005  0.5   \n",
      "4         NaN  0.106763 -0.191495  0.628768   0.1  1.57  0.005  0.005  0.5   \n",
      "\n",
      "   sleep  \n",
      "0    1.0  \n",
      "1    1.0  \n",
      "2    1.0  \n",
      "3    1.0  \n",
      "4    1.0  \n"
     ]
    }
   ],
   "source": [
    "try:\n",
    "    rclpy.init()\n",
    "except:\n",
    "    pass\n",
    "\n",
    "class SampleNodeClient(Node):\n",
    "    def __init__(self):\n",
    "        super().__init__('sample_node_notebook')\n",
    "        self.timer = self.create_timer(5.0, self.callback_timer)\n",
    "        self.subs = [self.create_subscription(TransformStamped, get_topic_name('/vslam/rig_tf'), self.callback_rig_tf, 10)]\n",
    "\n",
    "    def destroy(self):\n",
    "        _ = [self.destroy_subscription(_sub) for _sub in self.subs]\n",
    "        self.destroy_node()\n",
    "    \n",
    "    def callback_timer(self):\n",
    "        print(\"waiting for the massage\")\n",
    "\n",
    "    def callback_rig_tf(self, msg):\n",
    "        global waypoint_list\n",
    "        #print(str(msg))\n",
    "        _x, _y = msg.transform.translation.x, msg.transform.translation.y\n",
    "        _yaw, _pitch, _roll  = quaternion_to_euler_zyx([msg.transform.rotation.x, msg.transform.rotation.y, msg.transform.rotation.z, msg.transform.rotation.w])\n",
    "        _df = pd.DataFrame([[_x, _y, -np.rad2deg(_yaw), 0.1, 3.14/2.0, 0.005, 0.005, 0.5, 1.0]], columns=[\"x\",\"y\",\"deg\",\"v_xy\",\"v_w\",\"tx\",\"ty\",\"tr\",\"sleep\"])\n",
    "        #_df = pd.DataFrame([[_x, _y, -np.rad2deg(_yaw), 0.5, 3.14, 0.05, 0.05, 1.0, 0.0]], columns=[\"x\",\"y\",\"deg\",\"v_xy\",\"v_w\",\"tx\",\"ty\",\"tr\",\"sleep\"])\n",
    "\n",
    "        waypoint_list = pd.concat([waypoint_list, _df]).reset_index(drop=True)\n",
    "        raise KeyboardInterrupt\n",
    "        \n",
    "node = SampleNodeClient()\n",
    "try:\n",
    "    rclpy.spin(node)\n",
    "except KeyboardInterrupt:\n",
    "    print(\"KeyboardInterrupt\")\n",
    "node.destroy()\n",
    "if waypoint_list.shape[0]:\n",
    "    print(waypoint_list)"
   ]
  },
  {
   "cell_type": "markdown",
   "id": "0682ca82-d3de-49eb-980a-015fcf10b4c8",
   "metadata": {},
   "source": [
    "## 実行"
   ]
  },
  {
   "cell_type": "code",
   "execution_count": 15,
   "id": "fbc16caf-8dc9-4f39-94a5-d0bcb4ac7e60",
   "metadata": {},
   "outputs": [
    {
     "name": "stdout",
     "output_type": "stream",
     "text": [
      "triorb_drive_interface.msg.TriorbSetPos3(pos=triorb_drive_interface.msg.TriorbRunPos3(speed=triorb_drive_interface.msg.TriorbSpeed(acc=1000, dec=1000, xy=0.1, w=1.57), position=triorb_drive_interface.msg.TriorbPos3(x=0.1166073499593636, y=-0.1030979217945752, deg=0.1417295658673515)), setting=triorb_drive_interface.msg.TriorbRunSetting(tx=0.005, ty=0.005, tr=0.5, force=1))\n",
      "triorb_drive_interface.msg.TriorbSetPos3(pos=triorb_drive_interface.msg.TriorbRunPos3(speed=triorb_drive_interface.msg.TriorbSpeed(acc=1000, dec=1000, xy=0.1, w=1.57), position=triorb_drive_interface.msg.TriorbPos3(x=0.10229976082432561, y=-0.46165202450769927, deg=1.770066593113423)), setting=triorb_drive_interface.msg.TriorbRunSetting(tx=0.005, ty=0.005, tr=0.5, force=1))\n",
      "triorb_drive_interface.msg.TriorbSetPos3(pos=triorb_drive_interface.msg.TriorbRunPos3(speed=triorb_drive_interface.msg.TriorbSpeed(acc=1000, dec=1000, xy=0.1, w=1.57), position=triorb_drive_interface.msg.TriorbPos3(x=0.17429823073666423, y=-0.03731970206984683, deg=0.9134919509367743)), setting=triorb_drive_interface.msg.TriorbRunSetting(tx=0.005, ty=0.005, tr=0.5, force=1))\n",
      "triorb_drive_interface.msg.TriorbSetPos3(pos=triorb_drive_interface.msg.TriorbRunPos3(speed=triorb_drive_interface.msg.TriorbSpeed(acc=1000, dec=1000, xy=0.1, w=1.57), position=triorb_drive_interface.msg.TriorbPos3(x=0.18148998107773648, y=-0.040865385600631104, deg=0.25237722650622363)), setting=triorb_drive_interface.msg.TriorbRunSetting(tx=0.005, ty=0.005, tr=0.5, force=1))\n",
      "triorb_drive_interface.msg.TriorbSetPos3(pos=triorb_drive_interface.msg.TriorbRunPos3(speed=triorb_drive_interface.msg.TriorbSpeed(acc=1000, dec=1000, xy=0.1, w=1.57), position=triorb_drive_interface.msg.TriorbPos3(x=0.10676302548963078, y=-0.19149500401649688, deg=0.6287677930704919)), setting=triorb_drive_interface.msg.TriorbRunSetting(tx=0.005, ty=0.005, tr=0.5, force=1))\n"
     ]
    },
    {
     "name": "stderr",
     "output_type": "stream",
     "text": [
      "[INFO] [1716979326.190435397] [act_test]: Goal accepted :)\n"
     ]
    },
    {
     "name": "stdout",
     "output_type": "stream",
     "text": [
      "route0: pos:(0.1151,-0.1070,0.3868)          \n",
      "route1: pos:(0.1023,-0.4614,1.2881)          \n",
      "route2: pos:(0.1727,-0.0414,0.9742)          \n",
      "route3: pos:(0.1793,-0.0409,0.7188)          \n",
      "route4: pos:(0.1090,-0.1859,0.5183)          \r"
     ]
    },
    {
     "name": "stderr",
     "output_type": "stream",
     "text": [
      "[INFO] [1716979350.835705500] [act_test]: Result: triorb_drive_interface.msg.TriorbRunResult(success=True, position=triorb_drive_interface.msg.TriorbPos3(x=0.108827143907547, y=-0.18873511254787445, deg=0.5082088708877563))\n"
     ]
    }
   ],
   "source": [
    "run_action(waypoint_list)"
   ]
  },
  {
   "cell_type": "code",
   "execution_count": 7,
   "id": "6fc663d8-03a7-4d92-8f17-87040ff01eb4",
   "metadata": {},
   "outputs": [],
   "source": [
    "waypoint_list.to_csv(\"./waypoint.csv\")"
   ]
  },
  {
   "cell_type": "code",
   "execution_count": 8,
   "id": "f8664294-3cf1-4fb5-82ea-2e1cbdc2fad4",
   "metadata": {},
   "outputs": [],
   "source": [
    "waypoint_list = pd.read_csv(\"./waypoint.csv\")"
   ]
  },
  {
   "cell_type": "code",
   "execution_count": null,
   "id": "5627824b-3edf-49eb-8b1d-6ff2094aa971",
   "metadata": {},
   "outputs": [],
   "source": []
  }
 ],
 "metadata": {
  "kernelspec": {
   "display_name": "Python 3 (ipykernel)",
   "language": "python",
   "name": "python3"
  },
  "language_info": {
   "codemirror_mode": {
    "name": "ipython",
    "version": 3
   },
   "file_extension": ".py",
   "mimetype": "text/x-python",
   "name": "python",
   "nbconvert_exporter": "python",
   "pygments_lexer": "ipython3",
   "version": "3.8.10"
  }
 },
 "nbformat": 4,
 "nbformat_minor": 5
}
