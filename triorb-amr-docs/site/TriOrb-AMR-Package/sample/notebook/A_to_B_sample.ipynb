{
 "cells": [
  {
   "cell_type": "markdown",
   "id": "6fda69b0",
   "metadata": {},
   "source": [
    "## 必要なライブラリのimport(Notebookを開いたり, Kernel再起動の度に一度だけ実行)"
   ]
  },
  {
   "cell_type": "code",
   "execution_count": 1,
   "id": "2d557e59-1ea2-4b79-80b1-6b271f8a8438",
   "metadata": {},
   "outputs": [],
   "source": [
    "import pandas as pd\n",
    "import numpy as np\n",
    "import copy\n",
    "import time\n",
    "import rclpy\n",
    "from rclpy.node import Node\n",
    "from scipy.spatial.transform import Rotation as R\n",
    "from geometry_msgs.msg import TransformStamped\n",
    "from std_msgs.msg import Empty\n",
    "from triorb_drive_interface.msg import TriorbSetPos3 as TriorbSetPos3Topic\n",
    "from triorb_drive_interface.msg import TriorbRunResult\n",
    "from triorb_drive_interface.msg import DriveGains\n",
    "rclpy.init()"
   ]
  },
  {
   "cell_type": "markdown",
   "id": "44b8f7d4",
   "metadata": {},
   "source": [
    "## 事前定義(Notebookを開いたり, Kernel再起動の度に一度だけ実行)"
   ]
  },
  {
   "cell_type": "code",
   "execution_count": null,
   "id": "f91e9f26",
   "metadata": {},
   "outputs": [],
   "source": [
    "def quaternion_to_euler_zyx(q):\n",
    "    r = R.from_quat([q[0], q[1], q[2], q[3]])\n",
    "    return r.as_euler('zyx', degrees=False)\n",
    "\n",
    "def get_topic_name(topic_name_raw):\n",
    "    return (os.getenv('ROS_PREFIX', '')+'/'+topic_name_raw).replace(\"//\",\"/\")"
   ]
  },
  {
   "cell_type": "markdown",
   "id": "0fe7ca78-244b-4119-87d6-9cd67b07adfd",
   "metadata": {},
   "source": [
    "## 経由地点リストの初期化"
   ]
  },
  {
   "cell_type": "code",
   "execution_count": 2,
   "id": "9e591f12-4099-4445-a80b-3af497589496",
   "metadata": {},
   "outputs": [],
   "source": [
    "waypoint_list = pd.DataFrame(index=[], columns=[\"x\",\"y\",\"deg\",\"v_xy\",\"v_w\",\"tx\",\"ty\",\"tr\"])"
   ]
  },
  {
   "cell_type": "markdown",
   "id": "41e2a950-aca5-4ec0-8635-83a2cb569bba",
   "metadata": {},
   "source": [
    "## 経由地点の登録\n",
    "### \"リモコンでロボットを経由地点まで動かし下のCellを実行\"を経由地点の数に応じて繰り返す"
   ]
  },
  {
   "cell_type": "code",
   "execution_count": null,
   "id": "adea5e81-108f-431f-9f9e-5e4df9794892",
   "metadata": {},
   "outputs": [],
   "source": [
    "\n",
    "class SampleNodeClient(Node):\n",
    "    def __init__(self):\n",
    "        super().__init__('sample_node_notebook')\n",
    "        self.timer = self.create_timer(5.0, self.callback_timer)\n",
    "        self.subs = [self.create_subscription(TransformStamped, get_topic_name('/vslam/rig_tf'), self.callback_rig_tf, 10)]\n",
    "\n",
    "    def destroy(self):\n",
    "        _ = [self.destroy_subscription(_sub) for _sub in self.subs]\n",
    "        self.destroy_node()\n",
    "    \n",
    "    def callback_timer(self):\n",
    "        print(\"waiting for the massage\")\n",
    "\n",
    "    def callback_rig_tf(self, msg):\n",
    "        global waypoint_list\n",
    "        print(str(msg))\n",
    "        _x, _y = msg.transform.translation.x, msg.transform.translation.y\n",
    "        _yaw, _pitch, _roll  = quaternion_to_euler_zyx([msg.transform.rotation.x, msg.transform.rotation.y, msg.transform.rotation.z, msg.transform.rotation.w])\n",
    "        _df = pd.DataFrame([[_x, _y, -np.rad2deg(_yaw), 0.1, 3.14/2.0, 0.005, 0.005, 0.5, 1.0]], columns=[\"x\",\"y\",\"deg\",\"v_xy\",\"v_w\",\"tx\",\"ty\",\"tr\",\"sleep\"])\n",
    "        #_df = pd.DataFrame([[_x, _y, -np.rad2deg(_yaw), 0.5, 3.14, 0.05, 0.05, 1.0, 0.0]], columns=[\"x\",\"y\",\"deg\",\"v_xy\",\"v_w\",\"tx\",\"ty\",\"tr\",\"sleep\"])\n",
    "\n",
    "        waypoint_list = pd.concat([waypoint_list, _df]).reset_index(drop=True)\n",
    "        raise KeyboardInterrupt\n",
    "        \n",
    "node = SampleNodeClient()\n",
    "try:\n",
    "    rclpy.spin(node)\n",
    "except KeyboardInterrupt:\n",
    "    print(\"KeyboardInterrupt\")\n",
    "node.destroy()\n",
    "if waypoint_list.shape[0]:\n",
    "    print(waypoint_list)"
   ]
  },
  {
   "cell_type": "markdown",
   "id": "fb43a443-7436-408c-a604-c15a0fc13d0d",
   "metadata": {},
   "source": [
    "## 速度や目標精度を手で修正（必要に応じて下のセルを実行）"
   ]
  },
  {
   "cell_type": "code",
   "execution_count": null,
   "id": "74443a4f-fe48-41a0-9140-a3631a781c92",
   "metadata": {},
   "outputs": [],
   "source": [
    "# 経由地点index 0までの水平移動速度を0.3m/sに設定する\n",
    "waypoint_list.loc[0, 'v_xy'] = 0.3\n",
    "# 経由地点index 0までの旋回速度を1.57rad/sに設定する\n",
    "waypoint_list.loc[0, 'v_w'] = 1.57\n",
    "# 経由地点index 0の目標位置精度を±0.05mに設定する\n",
    "waypoint_list.loc[0, ['tx','ty']] = 0.05\n",
    "# 経由地点index 0の目標角度精度を±1degに設定する\n",
    "waypoint_list.loc[0, 'tr'] = 1.0\n",
    "# 経由地点index 0で1秒停止するように設定する\n",
    "waypoint_list.loc[0, 'sleep'] = 1.0\n",
    "# 経由地点一覧を表示\n",
    "print(waypoint_list)"
   ]
  },
  {
   "cell_type": "markdown",
   "id": "5083b16e-1d59-4ef9-be73-6ae35822d85c",
   "metadata": {},
   "source": [
    "## 自律移動を実行する"
   ]
  },
  {
   "cell_type": "code",
   "execution_count": null,
   "id": "c2b6c305-3d21-485f-adc8-5b7766714826",
   "metadata": {},
   "outputs": [],
   "source": [
    "STD_ACC = 1000\n",
    "STD_DEC = 1000\n",
    "GAIN_XY_P = 0.22 # 0.2\n",
    "GAIN_XY_I = 0.0\n",
    "GAIN_XY_D = 1e-4 # -5\n",
    "GAIN_W_P = 0.20\n",
    "GAIN_W_I = 0.0\n",
    "GAIN_W_D = 1e-5 # -6\n",
    "\n",
    "# 経由地点一覧を表示\n",
    "print(waypoint_list)\n",
    "\n",
    "class SampleNavigateClient(Node):\n",
    "    def __init__(self, waypoints):\n",
    "        super().__init__('sample_navigate_notebook')\n",
    "        self.pub_gain = self.create_publisher(DriveGains, get_topic_name(\"/setting/drive/gains\"), 1)\n",
    "        self.pub_set_pos = self.create_publisher(TriorbSetPos3Topic, get_topic_name(\"/drive/set_pos\"), 1)\n",
    "        self.pub_stop = self.create_publisher(Empty, get_topic_name(\"/drive/stop\"), 10)\n",
    "        self.subs = [self.create_subscription(TriorbRunResult, get_topic_name('/drive/result'), self.callback_result, 1)]\n",
    "        self.timer = self.create_timer(0.2, self.timer_pub)\n",
    "        self.waypoints = copy.deepcopy(waypoints)\n",
    "        self.waypoints = pd.concat([pd.DataFrame([self.waypoints.iloc[0,:]]), self.waypoints], axis=0).reset_index(drop=True) # 不具合に対する暫定対応\n",
    "        self.msg = None\n",
    "        self.sleep_time = 0.0\n",
    "        \n",
    "\n",
    "    def timer_pub(self):\n",
    "        if self.msg is not None:\n",
    "            #print(str(self.msg))\n",
    "            self.pub_set_pos.publish(self.msg)\n",
    "            self.msg = None\n",
    "            \n",
    "    def set_gain(self):\n",
    "        msg = DriveGains()\n",
    "        msg.xy_p = GAIN_XY_P\n",
    "        msg.xy_i = GAIN_XY_I\n",
    "        msg.xy_d = GAIN_XY_D\n",
    "        msg.w_p = GAIN_W_P\n",
    "        msg.w_i = GAIN_W_I\n",
    "        msg.w_d = GAIN_W_D\n",
    "        print(str(msg))\n",
    "        self.pub_gain.publish(msg)\n",
    "\n",
    "    def run_next(self):\n",
    "        for idx, point in self.waypoints.iterrows():\n",
    "            time.sleep(self.sleep_time)\n",
    "            self.sleep_time = point.sleep\n",
    "            request = TriorbSetPos3Topic()\n",
    "            request.pos.position.x = point.x\n",
    "            request.pos.position.y = point.y\n",
    "            request.pos.position.deg = point.deg\n",
    "            request.pos.speed.xy = point.v_xy\n",
    "            request.pos.speed.w = point.v_w\n",
    "            request.pos.speed.acc = STD_ACC\n",
    "            request.pos.speed.dec = STD_DEC\n",
    "            request.setting.tx = point.tx\n",
    "            request.setting.ty = point.ty\n",
    "            request.setting.tr = point.tr\n",
    "            request.setting.force = 1\n",
    "            print(str(request))\n",
    "            #self.pub_set_pos.publish(request)\n",
    "            self.waypoints = self.waypoints.drop(idx, axis=0)\n",
    "            self.msg = request\n",
    "            print(str(self.waypoints))\n",
    "            return\n",
    "        raise KeyboardInterrupt\n",
    "\n",
    "    def callback_result(self, msg):\n",
    "        print(\"Receive results\")\n",
    "        print(str(msg))\n",
    "        self.run_next()\n",
    "    \n",
    "    def destroy(self):\n",
    "        self.pub_stop.publish(Empty())\n",
    "        _ = [self.destroy_subscription(_sub) for _sub in self.subs]\n",
    "        self.destroy_node()\n",
    "\n",
    "\n",
    "tmp_list = waypoint_list\n",
    "#tmp_list = waypoint_list.iloc[::-1]\n",
    "#tmp_list = pd.concat([tmp_list,tmp_list[::-1]], axis=0)\n",
    "node = SampleNavigateClient(tmp_list)\n",
    "for _ in range(10):\n",
    "    rclpy.spin_once(node)\n",
    "time.sleep(5)\n",
    "try:\n",
    "    node.set_gain()\n",
    "    node.run_next()\n",
    "    rclpy.spin(node)\n",
    "except KeyboardInterrupt:\n",
    "    print(\"KeyboardInterrupt\")\n",
    "node.destroy()\n",
    "print(\"Finish\")"
   ]
  },
  {
   "cell_type": "markdown",
   "id": "eb135799-26bb-40cb-959f-c3fc776951ad",
   "metadata": {},
   "source": [
    "## 登録地点の保存"
   ]
  },
  {
   "cell_type": "code",
   "execution_count": 79,
   "id": "6e1f5004-a3e1-4baa-83bc-6312597f5552",
   "metadata": {},
   "outputs": [],
   "source": [
    "waypoint_list.to_csv(\"./waypoint.csv\")"
   ]
  },
  {
   "cell_type": "markdown",
   "id": "3748144f-deb9-49a4-b886-444b32cdd00a",
   "metadata": {},
   "source": [
    "## 登録地点の呼び出し"
   ]
  },
  {
   "cell_type": "code",
   "execution_count": null,
   "id": "17eba5a6-4306-4795-9250-1f8e7538a012",
   "metadata": {},
   "outputs": [],
   "source": [
    "waypoint_list = pd.read_csv(\"./waypoint.csv\")"
   ]
  },
  {
   "cell_type": "code",
   "execution_count": null,
   "id": "16368259-be9a-49da-8a19-7133d155beb0",
   "metadata": {},
   "outputs": [],
   "source": []
  }
 ],
 "metadata": {
  "kernelspec": {
   "display_name": "Python 3 (ipykernel)",
   "language": "python",
   "name": "python3"
  },
  "language_info": {
   "codemirror_mode": {
    "name": "ipython",
    "version": 3
   },
   "file_extension": ".py",
   "mimetype": "text/x-python",
   "name": "python",
   "nbconvert_exporter": "python",
   "pygments_lexer": "ipython3",
   "version": "3.8.10"
  }
 },
 "nbformat": 4,
 "nbformat_minor": 5
}
